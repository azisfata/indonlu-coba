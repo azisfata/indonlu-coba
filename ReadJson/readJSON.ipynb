{
 "cells": [
  {
   "cell_type": "code",
   "execution_count": null,
   "metadata": {},
   "outputs": [],
   "source": [
    "import pandas as pd\n",
    "import json"
   ]
  },
  {
   "cell_type": "code",
   "execution_count": null,
   "metadata": {},
   "outputs": [],
   "source": [
    "data = []\n",
    "with open(r'indosum\\dev.01.jsonl', 'r') as file:\n",
    "    for line in file:\n",
    "        data.append(json.loads(line))\n",
    "\n",
    "with open(r'indosum\\test.01.jsonl', 'r') as file:\n",
    "    for line in file:\n",
    "        data.append(json.loads(line))\n",
    "\n",
    "with open(r'indosum\\train.01.jsonl', 'r') as file:\n",
    "    for line in file:\n",
    "        data.append(json.loads(line))\n",
    "\n",
    "df = pd.DataFrame(data)\n",
    "df.head()"
   ]
  },
  {
   "cell_type": "code",
   "execution_count": null,
   "metadata": {},
   "outputs": [],
   "source": [
    "ringkas = df[['category', 'source', 'source_url', 'paragraphs', 'summary']]\n",
    "ringkas.head()"
   ]
  },
  {
   "cell_type": "code",
   "execution_count": null,
   "metadata": {},
   "outputs": [],
   "source": [
    "data = []\n",
    "for ringkasan in df['summary']:\n",
    "    teks = ' '.join([' '.join(kalimat).replace(' ,', ',').replace(' .', '.') for kalimat in ringkasan])\n",
    "    data.append(teks)\n",
    "\n",
    "ringkas['ringkasan']= data\n",
    "ringkas.head()"
   ]
  },
  {
   "cell_type": "code",
   "execution_count": null,
   "metadata": {},
   "outputs": [],
   "source": [
    "del ringkas['summary']\n",
    "ringkas.head()"
   ]
  },
  {
   "cell_type": "code",
   "execution_count": null,
   "metadata": {},
   "outputs": [],
   "source": [
    "#simpan ringkas ke excel\n",
    "# ringkas.to_excel('indosum.xlsx', index=False)"
   ]
  },
  {
   "cell_type": "code",
   "execution_count": null,
   "metadata": {},
   "outputs": [],
   "source": [
    "url = ringkas['source_url'][0]\n",
    "print(url)\n",
    "\n",
    "# Menggunakan split() untuk membagi URL berdasarkan tanda \"/\"\n",
    "bagian = url.split(\"/\")\n",
    "\n",
    "# Memilih bagian terakhir setelah tanda \"/\" terakhir\n",
    "kalimat_terakhir = bagian[-1].replace(\"-\", \" \")\n",
    "\n",
    "print(kalimat_terakhir)\n"
   ]
  },
  {
   "cell_type": "code",
   "execution_count": null,
   "metadata": {},
   "outputs": [],
   "source": [
    "for jdl in ringkas['source_url']:\n",
    "    print(jdl)\n",
    "    if jdl.split(\"/\")[-1] == '':\n",
    "        print(jdl.split(\"/\")[-2].replace(\"-\", \" \").replace(\".html\", \"\"))\n",
    "    else:\n",
    "        print(jdl.split(\"/\")[-1].replace(\"-\", \" \").replace(\".html\", \"\"))\n"
   ]
  },
  {
   "cell_type": "code",
   "execution_count": null,
   "metadata": {},
   "outputs": [],
   "source": [
    "import requests\n",
    "from bs4 import BeautifulSoup\n",
    "\n",
    "for url in ringkas['source_url']:\n",
    "    print(url)\n",
    "    try:\n",
    "        # Mengirim permintaan GET ke URL\n",
    "        response = requests.get(url)\n",
    "\n",
    "        # Mengecek apakah permintaan berhasil\n",
    "        response.raise_for_status()\n",
    "\n",
    "        # Membuat objek BeautifulSoup\n",
    "        soup = BeautifulSoup(response.text, 'html.parser')\n",
    "\n",
    "       # Mengambil elemen judul halaman jika ada\n",
    "        judul_elem = soup.title\n",
    "        if judul_elem:\n",
    "            judul = judul_elem.text.strip()\n",
    "            print(judul)\n",
    "        else:\n",
    "            print(\"Error: Tidak dapat menemukan judul halaman\")\n",
    "\n",
    "    except requests.exceptions.RequestException as e:\n",
    "        print(\"Error: Tidak dapat mengakses URL\")\n"
   ]
  },
  {
   "cell_type": "code",
   "execution_count": null,
   "metadata": {},
   "outputs": [],
   "source": [
    "#baca indosum.xlsx\n",
    "import pandas as pd\n",
    "ringkas = pd.read_excel('indosum.xlsx')\n",
    "ringkas.head()"
   ]
  },
  {
   "cell_type": "code",
   "execution_count": null,
   "metadata": {},
   "outputs": [],
   "source": [
    "import os\n",
    "os.environ[\"CUDA_VISIBLE_DEVICES\"] = \"0\"  # Specify the GPU device index\n",
    "\n",
    "import requests\n",
    "from bs4 import BeautifulSoup\n",
    "import torch\n",
    "\n",
    "device = torch.device(\"cuda\" if torch.cuda.is_available() else \"cpu\")\n",
    "\n",
    "JudulONL = []\n",
    "for url in ringkas['source_url']:\n",
    "    try:\n",
    "        # Mengirim permintaan GET ke URL\n",
    "        response = requests.get(url)\n",
    "\n",
    "        # Mengecek apakah permintaan berhasil\n",
    "        response.raise_for_status()\n",
    "\n",
    "        # Membuat objek BeautifulSoup\n",
    "        soup = BeautifulSoup(response.text, 'html.parser')\n",
    "\n",
    "        # Mengambil elemen judul halaman jika ada\n",
    "        judul_elem = soup.title\n",
    "        if judul_elem:\n",
    "            ttl = judul_elem.text.strip()\n",
    "            JudulONL.append(ttl)\n",
    "            print(ttl)\n",
    "        else:\n",
    "            if url.split(\"/\")[-1] == '':\n",
    "                JudulONL.append(url.split(\"/\")[-2].replace(\"-\", \" \").replace(\".html\", \"\"))\n",
    "            else:\n",
    "                JudulONL.append(url.split(\"/\")[-1].replace(\"-\", \" \").replace(\".html\", \"\"))\n",
    "\n",
    "    except requests.exceptions.RequestException as e:\n",
    "        if url.split(\"/\")[-1] == '':\n",
    "            JudulONL.append(url.split(\"/\")[-2].replace(\"-\", \" \").replace(\".html\", \"\"))\n",
    "        else:\n",
    "            JudulONL.append(url.split(\"/\")[-1].replace(\"-\", \" \").replace(\".html\", \"\"))\n",
    "\n",
    "JudulONL = [torch.tensor(judul, device=device) for judul in JudulONL]  # Move data to GPU\n",
    "\n",
    "ringkas['Judul Online'] = JudulONL\n",
    "ringkas.head()\n"
   ]
  },
  {
   "cell_type": "code",
   "execution_count": null,
   "metadata": {},
   "outputs": [],
   "source": [
    "!nvidia-smi"
   ]
  }
 ],
 "metadata": {
  "kernelspec": {
   "display_name": "Python 3",
   "language": "python",
   "name": "python3"
  },
  "language_info": {
   "codemirror_mode": {
    "name": "ipython",
    "version": 3
   },
   "file_extension": ".py",
   "mimetype": "text/x-python",
   "name": "python",
   "nbconvert_exporter": "python",
   "pygments_lexer": "ipython3",
   "version": "3.10.7"
  },
  "orig_nbformat": 4
 },
 "nbformat": 4,
 "nbformat_minor": 2
}
